{
 "cells": [
  {
   "cell_type": "markdown",
   "metadata": {},
   "source": [
    "# Exercise 02: Data Structures & for-Loops"
   ]
  },
  {
   "cell_type": "markdown",
   "metadata": {},
   "source": [
    "## Lists & Loops\n",
    "Based on the two lists of programming languages below, create a new list containing only the yet unknown languages. Sort the resulting list alphabetically and print it."
   ]
  },
  {
   "cell_type": "code",
   "execution_count": 2,
   "metadata": {},
   "outputs": [
    {
     "name": "stdout",
     "output_type": "stream",
     "text": [
      "['C#', 'C++', 'Fortran', 'Java', 'JavaScript', 'Lisp', 'Perl']\n",
      "['C#', 'C++', 'Fortran', 'Java', 'JavaScript', 'Lisp', 'Perl']\n"
     ]
    }
   ],
   "source": [
    "programming_languages = [\n",
    "    \"Python\", \n",
    "    \"C\", \n",
    "    \"Julia\", \n",
    "    \"Java\", \n",
    "    \"C#\", \n",
    "    \"Fortran\", \n",
    "    \"C++\", \n",
    "    \"JavaScript\",\n",
    "    \"Perl\",\n",
    "    \"Lisp\",\n",
    "]\n",
    "\n",
    "languages_i_know = [\"Python\", \"Julia\", \"C\"]\n",
    "\n",
    "# your code goes here:\n",
    "unknown_programming_languages = programming_languages[:]\n",
    "for language in languages_i_know:\n",
    "    unknown_programming_languages.remove(language)\n",
    "print(sorted(unknown_programming_languages))\n",
    "\n",
    "# If you already know \"if\":\n",
    "unknown_programming_languages = []\n",
    "for language in programming_languages:\n",
    "    if language not in languages_i_know:\n",
    "        unknown_programming_languages.append(language)\n",
    "print(sorted(unknown_programming_languages))\n"
   ]
  },
  {
   "cell_type": "markdown",
   "metadata": {},
   "source": [
    "### Sets\n",
    "Solve the above example with sets instead of loops!"
   ]
  },
  {
   "cell_type": "code",
   "execution_count": 3,
   "metadata": {},
   "outputs": [
    {
     "name": "stdout",
     "output_type": "stream",
     "text": [
      "['C#', 'C++', 'Fortran', 'Java', 'JavaScript', 'Lisp', 'Perl']\n"
     ]
    }
   ],
   "source": [
    "# your code goes here:\n",
    "unknown_programming_languages = set(programming_languages) - set(languages_i_know)\n",
    "print(sorted(unknown_programming_languages))"
   ]
  },
  {
   "cell_type": "markdown",
   "metadata": {},
   "source": [
    "<summary>\n",
    "<detaisl>"
   ]
  },
  {
   "cell_type": "markdown",
   "metadata": {},
   "source": [
    "## Data structure conversion\n",
    "Create a dictionary which maps product names to prices, using the `price_table` given below."
   ]
  },
  {
   "cell_type": "code",
   "execution_count": 4,
   "metadata": {},
   "outputs": [
    {
     "name": "stdout",
     "output_type": "stream",
     "text": [
      "{'honey': 2.45, 'butter': 1.3, 'catfood': 4.85, 'tea': 1.5}\n",
      "{'honey': 2.45, 'butter': 1.3, 'catfood': 4.85, 'tea': 1.5}\n"
     ]
    }
   ],
   "source": [
    "price_table = [(\"honey\", 2.45), (\"butter\", 1.30), (\"catfood\", 4.85), (\"tea\", 1.50)]\n",
    "\n",
    "# your code goes here:\n",
    "products = {}\n",
    "\n",
    "for name, price in price_table:\n",
    "    products[name] = price\n",
    "print(products)\n",
    "\n",
    "# Alternative:\n",
    "print(dict(price_table))"
   ]
  },
  {
   "cell_type": "markdown",
   "metadata": {},
   "source": [
    "## Nested data structures\n",
    "The data below is given as a list of nested tuples, where each outer tuple is structured as follows:\n",
    "\n",
    "`(<name>, (<price>, <amount>))`\n",
    "\n",
    "Transform the data into a more explicit form, a dictionary where each key is a product name and each value is again a dictionary containing entries for `\"price\"` and `\"amount\"`. The result should look like this:\n",
    "```python\n",
    "{'honey': {'price': 2.45, 'amount': 10}, 'butter': {'price': 1.3, 'amount': 100}, 'catfood': {'price': 4.85, 'amount': 3}, 'tea': {'price': 1.5, 'amount': 123}}\n",
    "```"
   ]
  },
  {
   "cell_type": "code",
   "execution_count": 19,
   "metadata": {},
   "outputs": [
    {
     "name": "stdout",
     "output_type": "stream",
     "text": [
      "{'honey': {'price': 2.45, 'amount': 10}, 'butter': {'price': 1.3, 'amount': 100}, 'catfood': {'price': 4.85, 'amount': 3}, 'tea': {'price': 1.5, 'amount': 123}}\n"
     ]
    }
   ],
   "source": [
    "input_data = [\n",
    "    (\"honey\", (2.45, 10)), \n",
    "    (\"butter\", (1.30, 100)), \n",
    "    (\"catfood\", (4.85, 3)), \n",
    "    (\"tea\", (1.50, 123)),\n",
    "]\n",
    "\n",
    "# your code goes here:\n",
    "products = {}\n",
    "for name, (price, amount) in input_data:\n",
    "    products[name] = {\n",
    "        \"price\": price,\n",
    "        \"amount\": amount,\n",
    "    }\n",
    "print(products)"
   ]
  },
  {
   "cell_type": "markdown",
   "metadata": {},
   "source": [
    "Finally, reduce the amount of butter by `20` and print the entire dictionary:"
   ]
  },
  {
   "cell_type": "code",
   "execution_count": 20,
   "metadata": {},
   "outputs": [
    {
     "name": "stdout",
     "output_type": "stream",
     "text": [
      "{'honey': {'price': 2.45, 'amount': 10}, 'butter': {'price': 1.3, 'amount': 80}, 'catfood': {'price': 4.85, 'amount': 3}, 'tea': {'price': 1.5, 'amount': 123}}\n"
     ]
    }
   ],
   "source": [
    "# your code goes here:\n",
    "products[\"butter\"][\"amount\"] -= 20\n",
    "print(products)"
   ]
  }
 ],
 "metadata": {
  "kernelspec": {
   "display_name": "Python 3.10.4 64-bit",
   "language": "python",
   "name": "python3"
  },
  "language_info": {
   "codemirror_mode": {
    "name": "ipython",
    "version": 3
   },
   "file_extension": ".py",
   "mimetype": "text/x-python",
   "name": "python",
   "nbconvert_exporter": "python",
   "pygments_lexer": "ipython3",
   "version": "3.10.4"
  },
  "vscode": {
   "interpreter": {
    "hash": "46e2835a142a16ae115bce5fddf19f27ce13b17a4ab8ded638c88ab5ce5171d2"
   }
  }
 },
 "nbformat": 4,
 "nbformat_minor": 4
}
