{
 "cells": [
  {
   "cell_type": "markdown",
   "metadata": {},
   "source": [
    "# Python Crash Course 04 - Functions"
   ]
  },
  {
   "cell_type": "markdown",
   "metadata": {},
   "source": [
    "## Functions \n",
    "\n",
    "[Video tutorial (22 min)](https://www.youtube.com/watch?v=9Os0o3wzS_I)\n",
    "\n",
    "A _function_ is a block of code which only runs if it is called. We can pass data to the function in form of _arguments_. While it is possible to avoid functions when programming, they make our lifes a lot easier since the allow...\n",
    "\n",
    "* ... reusing code snippets\n",
    "* ... better code structuring\n",
    "* ... changing of code throughout a program without copy-paste\n",
    "\n",
    "We can use a function on similar but different input data to get the desired output without copying or rewriting a lot of code. For example, look at the following gif. There is a function (`add_one_side`) which adds one side to a geometric form. Applying the function to different geometric forms (the _input_) creates new forms, each with one added side (the _output_).\n",
    "\n",
    "<img src=\"https://content.codecademy.com/courses/learn-python-functions/python-functions.gif\" width=\"500\" />\n",
    "\n",
    "(gif taken from [https://www.codecademy.com](https://www.codecademy.com/courses/learn-python-3/lessons/intro-to-functions/exercises/introduction))"
   ]
  },
  {
   "cell_type": "markdown",
   "metadata": {},
   "source": [
    "### Defining functions in python\n",
    "Now that we basically now the concept of functions we have a look at how we can define and use them in python. Actually, define or `def` is a good first keyword 😉\n",
    "\n",
    "```python\n",
    "# Use \"def\" to create new functions\n",
    "def function_name(arg1, arg2, ..., argN):\n",
    "    # do something\n",
    "    return something # optional!\n",
    "```\n",
    "Ok. What is this all? So every definition of a function in python starts with the `def` keyword followed by the function name.  \n",
    "As we said before, we want to pass data to a function. This is done by passing arguments. The expected arguments are defined in the parentheses directly after the function name. You can add as many arguments as you need and they are all separated by comma.  \n",
    "At the end of the line we need to add the colon!  \n",
    "\n",
    "Now we can write code inside the function. It is important to tell python which part is part of the function and which is not. So everything inside the function needs to be indented (by 4 spaces).  \n",
    "At the end of the function we can return values and use the `return` keyword followed by the value we want to return.\n",
    "\n",
    "Let's try it!"
   ]
  },
  {
   "cell_type": "code",
   "execution_count": null,
   "metadata": {},
   "outputs": [],
   "source": [
    "def hello_world():\n",
    "    print(\"Inside the function\")\n",
    "\n",
    "print(\"Outside the function\")"
   ]
  },
  {
   "cell_type": "markdown",
   "metadata": {},
   "source": [
    "So we created a function `hello_world` with no expected arguments (notice the empty parentheses). The function prints `\"Inside the Function\"` and does not have an explicit return value (implicitly, `None` is returned).\n",
    "\n",
    "But what happend here? Why did we only see the `\"Outside the Function\"` string not the `\"Inside the Function\"` string?  \n",
    "\n",
    "A function has to be _defined_ __and__ _executed_ to make something happen!\n",
    "\n",
    "So now, lets call the function. This is done by writing the function name followed by parentheses. If the function required arguments, we would also need to pass them here."
   ]
  },
  {
   "cell_type": "code",
   "execution_count": null,
   "metadata": {},
   "outputs": [],
   "source": [
    "hello_world()"
   ]
  },
  {
   "cell_type": "markdown",
   "metadata": {},
   "source": [
    "#### Positional arguments\n",
    "As we heard before, we can pass data to a function via arguments. The names between the parentheses in the function definition decide by which names the passed values will be known inside the function body. These names are so called _local variables_, i.e. they are only valid _within the function_.\n",
    "\n",
    "Let's try to create a function with two parameters which should subtract the second from the first. Notice the ordering of the arguments is important. Therefore also the name positional arguments (positional *->* the position matters)."
   ]
  },
  {
   "cell_type": "code",
   "execution_count": null,
   "metadata": {},
   "outputs": [],
   "source": [
    "def absolute_distance(x, y):\n",
    "    print(abs(x - y))"
   ]
  },
  {
   "cell_type": "code",
   "execution_count": null,
   "metadata": {},
   "outputs": [],
   "source": [
    "absolute_distance(5, 7)"
   ]
  },
  {
   "cell_type": "markdown",
   "metadata": {},
   "source": [
    "As we said we can reuse the function with different arguments:"
   ]
  },
  {
   "cell_type": "code",
   "execution_count": null,
   "metadata": {},
   "outputs": [],
   "source": [
    "absolute_distance(7, 5)\n",
    "absolute_distance(100, 200)\n",
    "absolute_distance(-10, 5)"
   ]
  },
  {
   "cell_type": "markdown",
   "metadata": {},
   "source": [
    "#### Keyword arguments\n",
    "While positional arguments' values are assigned implicitly based on their position, values can also be passed _explicitly_ by their name. For functions with many arguments, this makes it more clear which value belongs to which argument."
   ]
  },
  {
   "cell_type": "code",
   "execution_count": null,
   "id": "33fb95e0",
   "metadata": {},
   "outputs": [],
   "source": [
    "def say_hello(name, age):\n",
    "    print(f\"Hi, my name is {name} and I'm {age} years old\")"
   ]
  },
  {
   "cell_type": "markdown",
   "id": "0b13280b",
   "metadata": {},
   "source": [
    "Argument assignment based on position, as before:"
   ]
  },
  {
   "cell_type": "code",
   "execution_count": null,
   "id": "89f107ae",
   "metadata": {},
   "outputs": [],
   "source": [
    "say_hello(\"Tim\", 27)"
   ]
  },
  {
   "cell_type": "markdown",
   "id": "264f35e2",
   "metadata": {},
   "source": [
    "Argument assignment based on name (i.e. using \"keywords\"):"
   ]
  },
  {
   "cell_type": "code",
   "execution_count": null,
   "id": "a90e8881",
   "metadata": {},
   "outputs": [],
   "source": [
    "say_hello(name=\"Tim\", age=27)"
   ]
  },
  {
   "cell_type": "markdown",
   "id": "98eb40a3",
   "metadata": {},
   "source": [
    "The order of keyword arguments can be changed:"
   ]
  },
  {
   "cell_type": "code",
   "execution_count": null,
   "id": "75735d68",
   "metadata": {},
   "outputs": [],
   "source": [
    "say_hello(age=27, name=\"Tim\")"
   ]
  },
  {
   "cell_type": "markdown",
   "id": "60bc7efb",
   "metadata": {},
   "source": [
    "You can use both positional arguments and keyword arguments in a single function call:"
   ]
  },
  {
   "cell_type": "code",
   "execution_count": null,
   "id": "669dc44f",
   "metadata": {},
   "outputs": [],
   "source": [
    "say_hello(\"Tim\", age=27)"
   ]
  },
  {
   "cell_type": "markdown",
   "id": "ed99cf08",
   "metadata": {},
   "source": [
    "However, keyword arguments are only allowed _after_ positional ones:"
   ]
  },
  {
   "cell_type": "code",
   "execution_count": null,
   "id": "401e27c9",
   "metadata": {},
   "outputs": [],
   "source": [
    "say_hello(name=\"Tim\", 27)"
   ]
  },
  {
   "cell_type": "markdown",
   "id": "ed2d8320",
   "metadata": {},
   "source": [
    "#### Default argument values\n",
    "Inside a function definition, default values can be given for (some of) its arguments. Such a function can then be called without passing all arguments:"
   ]
  },
  {
   "cell_type": "code",
   "execution_count": null,
   "id": "a6aabd12",
   "metadata": {},
   "outputs": [],
   "source": [
    "def power(base, exponent=2):\n",
    "    print(base**exponent)\n",
    "    \n",
    "power(4)"
   ]
  },
  {
   "cell_type": "markdown",
   "id": "ecb5430d",
   "metadata": {},
   "source": [
    "If the argument `exponent` is not given, the default value `2` is used. Otherwise, the function uses the given value:"
   ]
  },
  {
   "cell_type": "code",
   "execution_count": null,
   "id": "7635754e",
   "metadata": {},
   "outputs": [],
   "source": [
    "power(4, 3)"
   ]
  },
  {
   "cell_type": "markdown",
   "id": "d0a6ab21",
   "metadata": {},
   "source": [
    "Again, both the mandatory argument and the argument with a default value can be given with or without an explicit name:"
   ]
  },
  {
   "cell_type": "code",
   "execution_count": null,
   "id": "6c4c724d",
   "metadata": {},
   "outputs": [],
   "source": [
    "power(10, 3)\n",
    "power(10, exponent=3)\n",
    "power(base=10, exponent=3)"
   ]
  },
  {
   "cell_type": "markdown",
   "id": "cfe58586",
   "metadata": {},
   "source": [
    "Arguments with default values have to be defined _after_ all mandatory arguments, so this is syntactically invalid:"
   ]
  },
  {
   "cell_type": "code",
   "execution_count": null,
   "id": "dd2b538e",
   "metadata": {},
   "outputs": [],
   "source": [
    "def power(exponent=2, base):\n",
    "    print(base**exponent)"
   ]
  },
  {
   "cell_type": "markdown",
   "metadata": {},
   "source": [
    "### Return values\n",
    "Last but not least we talk about the return values. They are used to pass results from inside the function to the outside. Again, when no return is present Python automatically returns `None`, which can be seen when looking at the return value of our frst function:"
   ]
  },
  {
   "cell_type": "code",
   "execution_count": null,
   "metadata": {
    "scrolled": true
   },
   "outputs": [],
   "source": [
    "print(hello_world())"
   ]
  },
  {
   "cell_type": "markdown",
   "metadata": {},
   "source": [
    "Now we create a function `sqrt` which calculates the square root of a given number and returns this:"
   ]
  },
  {
   "cell_type": "code",
   "execution_count": null,
   "metadata": {},
   "outputs": [],
   "source": [
    "def sqrt(x):\n",
    "#     print(x**0.5)\n",
    "    return x**0.5"
   ]
  },
  {
   "cell_type": "code",
   "execution_count": null,
   "metadata": {},
   "outputs": [],
   "source": [
    "print(f\"The square root of 7 is {sqrt(2)}\")\n"
   ]
  },
  {
   "cell_type": "markdown",
   "metadata": {},
   "source": [
    "We can also return more than one value! This is done by creating a tuple of the desired values in the `return` statement and _unpacking_ them when assigning names to the function results:"
   ]
  },
  {
   "cell_type": "code",
   "execution_count": null,
   "metadata": {},
   "outputs": [],
   "source": [
    "def minmax(numbers):\n",
    "    return min(numbers), max(numbers)"
   ]
  },
  {
   "cell_type": "code",
   "execution_count": null,
   "metadata": {},
   "outputs": [],
   "source": [
    "nums = [52, 27, 10, 99, 83]\n",
    "\n",
    "smallest, largest = minmax(nums)\n",
    "print(smallest)\n",
    "print(largest)"
   ]
  },
  {
   "cell_type": "markdown",
   "metadata": {},
   "source": [
    "### Type hints\n",
    "Since we always want to create code which is nice to read, we can tell other about the required types for a function's arguments and what the type of the return value will be by adding _type hints_."
   ]
  },
  {
   "cell_type": "code",
   "execution_count": null,
   "metadata": {},
   "outputs": [],
   "source": [
    "def a_very_useful_function(\n",
    "    first_param: int, \n",
    "    second_param: float, \n",
    "    default_param: list[float] = [1.2, 2.1],\n",
    ") -> str:\n",
    "    # do something\n",
    "    \n",
    "    return \"some string as defined\""
   ]
  },
  {
   "cell_type": "markdown",
   "metadata": {},
   "source": [
    "Notice here: we tell the user that the first parameter *should* be a integer, the second *should* be a float and the default parameter *should* be a list of floats. The function returns a string. These typehints are, as the name suggests only hints and don't prevent from passing other types than defined. For more information what to include in your typehints see [here](https://docs.python.org/3/library/typing.html).\n",
    "\n",
    "We encourage you to always add typehints, as they show mistakes early and help your text editor's autocompletion."
   ]
  },
  {
   "cell_type": "markdown",
   "metadata": {},
   "source": [
    "### Docstrings\n",
    "Another way to help others read your code is to create a docstring for each of your functions. This is a text which describes the expected parameters, what the function does, and what the return value is.\n",
    "A docstring starts and ends with three quotation marks `\"\"\"`. The content is up to the programmer, but there are different style guides on how to structure the information inside a docstring. [numpydoc](https://numpydoc.readthedocs.io/en/latest/format.html) is the most commonly used convention in the data science community, so we encourage you to use that, as shown in the example below:"
   ]
  },
  {
   "cell_type": "code",
   "execution_count": null,
   "id": "a2fc5b59",
   "metadata": {},
   "outputs": [],
   "source": [
    "\n",
    "def calculate_price(product: str, amount: int = 1) -> float:\n",
    "    \"\"\"\n",
    "    Calculate the total price of a purchase.\n",
    "\n",
    "    For now, the product range is rather small ;) \n",
    "\n",
    "    Parameters\n",
    "    ----------\n",
    "    product : str\n",
    "        The desired product.\n",
    "    amount : int, optional\n",
    "        The number of products to be bought, by default 1.\n",
    "\n",
    "    Returns\n",
    "    -------\n",
    "    float\n",
    "        The total price.\n",
    "    \"\"\"    \n",
    "    products = {\"pizza\": 3.45, \"noodles\": 0.99}\n",
    "    return products[product] * amount"
   ]
  },
  {
   "cell_type": "markdown",
   "metadata": {},
   "source": [
    "### Common Mistakes\n",
    "\n",
    "It is important that you **pass all needed parameters to the function when calling**, else you encounter an error:"
   ]
  },
  {
   "cell_type": "code",
   "execution_count": null,
   "metadata": {},
   "outputs": [],
   "source": [
    "def subtract(x, y):\n",
    "    return x - y\n",
    "    \n",
    "subtract(5) # one argument missing -> TypeError"
   ]
  },
  {
   "cell_type": "markdown",
   "metadata": {},
   "source": [
    "The same if you pass too many parameters:"
   ]
  },
  {
   "cell_type": "code",
   "execution_count": null,
   "metadata": {},
   "outputs": [],
   "source": [
    "subtract(5, 4, 3) # one argument extra -> TypeError"
   ]
  },
  {
   "cell_type": "markdown",
   "metadata": {},
   "source": [
    "Both errors above are fixed by passing the correct amount of parameters"
   ]
  },
  {
   "cell_type": "code",
   "execution_count": null,
   "metadata": {},
   "outputs": [],
   "source": [
    "subtract(5, 4)"
   ]
  },
  {
   "cell_type": "markdown",
   "metadata": {},
   "source": [
    "Don't forget to indent inside a function (you should use 4 spaces for that)"
   ]
  },
  {
   "cell_type": "code",
   "execution_count": null,
   "metadata": {},
   "outputs": [],
   "source": [
    "def some_function():\n",
    "print(\"Some text 'inside' a function\")\n",
    "some_function()"
   ]
  },
  {
   "cell_type": "markdown",
   "metadata": {},
   "source": [
    "Here the fix is to correctly indent the code inside the function"
   ]
  },
  {
   "cell_type": "code",
   "execution_count": null,
   "metadata": {},
   "outputs": [],
   "source": [
    "def some_function():\n",
    "    print(\"Some text inside a function\")\n",
    "some_function()"
   ]
  },
  {
   "cell_type": "markdown",
   "id": "c033c3e2",
   "metadata": {},
   "source": [
    "Default values for function arguments are created _just once_ and used on every function call. So using something mutable as a default argument leads to unwanted behaviour (most of the time):"
   ]
  },
  {
   "cell_type": "code",
   "execution_count": null,
   "id": "409161d1",
   "metadata": {},
   "outputs": [],
   "source": [
    "def add_even_numbers_to_list(new_numbers: list, even_numbers: list[int] = []):\n",
    "    for number in new_numbers:\n",
    "        if number % 2 == 0:\n",
    "            even_numbers.append(number)\n",
    "    return even_numbers\n",
    "\n",
    "\n",
    "result = add_even_numbers_to_list([1, 2, 3, 4, 5])\n",
    "print(result)\n",
    "result = add_even_numbers_to_list([6, 7, 8])\n",
    "print(result)\n",
    "result = add_even_numbers_to_list([12, 13, 14], even_numbers=[8, 10])\n",
    "print(result)"
   ]
  },
  {
   "cell_type": "markdown",
   "id": "58794233",
   "metadata": {},
   "source": [
    "In the second function call, the list specified as the default for the argument `even_numbers` already contained `2` and `4` from the first call. To avoid such a situation, write the function like this:"
   ]
  },
  {
   "cell_type": "code",
   "execution_count": null,
   "id": "588c5e31",
   "metadata": {},
   "outputs": [],
   "source": [
    "def add_even_numbers_to_list(new_numbers: list, even_numbers: list[int] = None):\n",
    "    if even_numbers is None:\n",
    "        even_numbers = []\n",
    "    for number in new_numbers:\n",
    "        if number % 2 == 0:\n",
    "            even_numbers.append(number)\n",
    "    return even_numbers\n",
    "\n",
    "\n",
    "result = add_even_numbers_to_list([1, 2, 3, 4, 5])\n",
    "print(result)\n",
    "result = add_even_numbers_to_list([6, 7, 8])\n",
    "print(result)\n",
    "result = add_even_numbers_to_list([12, 13, 14], even_numbers=[8, 10])\n",
    "print(result)"
   ]
  },
  {
   "cell_type": "markdown",
   "metadata": {},
   "source": [
    "## Best Practice\n",
    "\n",
    "### Global variables\n",
    "If, inside a function, a variable name is accessed which is not part of the argument list, Python will look _outside the function_ for this name. This can lead to hard-to-find bugs. Try to make your functions self-contained, i.e. let them only use variables which are passed as arguments!\n",
    "\n",
    "##### _Don't_:\n",
    "```python\n",
    "a = 5\n",
    "\n",
    "def add_number(b: int) -> int:\n",
    "    return a + b\n",
    "```\n",
    "Here `a` is defined outside the function, the function relies that `a` is defined somewhere outside, if this is not the case the function would not work.\n",
    "\n",
    "##### _Do:_\n",
    "```python\n",
    "def add_number(a: int, b: int) -> int:\n",
    "    return a + b\n",
    "```\n",
    "Adding `a` as a positional argument is here the way to go so the function does not rely on variables from outside.\n"
   ]
  },
  {
   "cell_type": "markdown",
   "metadata": {},
   "source": [
    "### Exit function early\n",
    "\n",
    "When your function has multiple exit points you should always exit as soon a possible.\n",
    "##### _Don't:_\n",
    "```python\n",
    "def root(number: float, degree: int = 2) -> float|None:\n",
    "    if not isinstance(number, float):\n",
    "        print(f\"'number' must be of type float but is: {type(number)}\")\n",
    "    else:\n",
    "        return number**(1/degree)\n",
    "```\n",
    "Code can get messy real fast when using a lot of `if/elif/else` statements, therefore try to reduce them by exiting the function early.\n",
    "\n",
    "##### _Do:_\n",
    "```python\n",
    "def root(number: float, degree: int = 2) -> float|None:\n",
    "    if not isinstance(number, float):\n",
    "        print(f\"'number' must be of type float but is: {type(number)}\")\n",
    "        return\n",
    "    return number**(1/degree)\n",
    "```\n",
    "You don't even need an `else` block here anymore since if `number` is not a float the function returns and never reaches the code outside the `if` block.\n"
   ]
  }
 ],
 "metadata": {
  "interpreter": {
   "hash": "9876a56b36d3e86ed839f942802fea42f90ec2f0ee3c4ea82631e635694a47fe"
  },
  "kernelspec": {
   "display_name": "Python 3.10.0 64-bit",
   "language": "python",
   "name": "python3"
  },
  "language_info": {
   "codemirror_mode": {
    "name": "ipython",
    "version": 3
   },
   "file_extension": ".py",
   "mimetype": "text/x-python",
   "name": "python",
   "nbconvert_exporter": "python",
   "pygments_lexer": "ipython3",
   "version": "3.10.0"
  }
 },
 "nbformat": 4,
 "nbformat_minor": 5
}
