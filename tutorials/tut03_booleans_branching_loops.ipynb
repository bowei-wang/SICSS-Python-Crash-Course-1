{
 "cells": [
  {
   "cell_type": "markdown",
   "metadata": {},
   "source": [
    "# Python Crash Course 04 - Booleans, Branching, and Loops"
   ]
  },
  {
   "cell_type": "markdown",
   "metadata": {},
   "source": [
    "## Booleans\n",
    "- [Video tutorial (17 min)](https://www.youtube.com/watch?v=DZwmZ8Usvnk&list=PL-osiE80TeTskrapNbzXhwoFUiLCjGgY7&index=6)  \n",
    "- [Library reference](https://docs.python.org/3/library/stdtypes.html#truth-value-testing )\n",
    "\n",
    "A _boolean_ is a data type intended to store \"truth values\" - `True` or `False` (note the capitalized first letters!)."
   ]
  },
  {
   "cell_type": "code",
   "execution_count": null,
   "metadata": {},
   "outputs": [],
   "source": [
    "true_value = True\n",
    "false_value = False\n",
    "type(true_value)"
   ]
  },
  {
   "cell_type": "markdown",
   "metadata": {},
   "source": [
    "Booleans can be combined an manipulated. There exist the following boolean operations:\n",
    "\n",
    "| Operation   | Result                               |\n",
    "|-------------|--------------------------------------|\n",
    "| `x or y`    | (OR) if x is False, then y, else x        |\n",
    "| `x and y`   | (AND) if x is False, then x, else y        |\n",
    "| `not x`     | (NOT) if x is False, then True, else False |"
   ]
  },
  {
   "cell_type": "markdown",
   "metadata": {},
   "source": [
    "#### `and`\n",
    "\"conjunction\" of two booleans   \n",
    "\n",
    "|   x   |   y   | `x and y` |\n",
    "|-------|-------|-----------|\n",
    "|`False`|`False`| `False`   |\n",
    "|`False`|`True` | `False`   |\n",
    "|`True` |`False`| `False`   |\n",
    "|`True` |`True` | `True`    |"
   ]
  },
  {
   "cell_type": "code",
   "execution_count": 1,
   "metadata": {},
   "outputs": [
    {
     "ename": "NameError",
     "evalue": "name 'true_value' is not defined",
     "output_type": "error",
     "traceback": [
      "\u001b[1;31m---------------------------------------------------------------------------\u001b[0m",
      "\u001b[1;31mNameError\u001b[0m                                 Traceback (most recent call last)",
      "\u001b[1;32m~\\AppData\\Local\\Temp/ipykernel_17692/2711358639.py\u001b[0m in \u001b[0;36m<module>\u001b[1;34m\u001b[0m\n\u001b[1;32m----> 1\u001b[1;33m \u001b[0mtrue_value\u001b[0m \u001b[1;32mand\u001b[0m \u001b[0mfalse_value\u001b[0m\u001b[1;33m\u001b[0m\u001b[1;33m\u001b[0m\u001b[0m\n\u001b[0m",
      "\u001b[1;31mNameError\u001b[0m: name 'true_value' is not defined"
     ]
    }
   ],
   "source": [
    "true_value and false_value"
   ]
  },
  {
   "cell_type": "markdown",
   "metadata": {
    "tags": []
   },
   "source": [
    "#### `or`\n",
    "\"disjunction\" of two booleans   \n",
    "\n",
    "|   x   |   y   | `x or y` |\n",
    "|-------|-------|-----------|\n",
    "|`False`|`False`| `False`   |\n",
    "|`False`|`True` | `True`    |\n",
    "|`True` |`False`| `True`    |\n",
    "|`True` |`True` | `True`    |"
   ]
  },
  {
   "cell_type": "code",
   "execution_count": null,
   "metadata": {},
   "outputs": [],
   "source": [
    "true_value or false_value"
   ]
  },
  {
   "cell_type": "markdown",
   "metadata": {},
   "source": [
    "#### `not`\n",
    "negation of a single boolean\n",
    "\n",
    "|   x   |   `not x` |\n",
    "|-------|-----------|\n",
    "|`True` | `False`   |\n",
    "|`False`| `True`    |"
   ]
  },
  {
   "cell_type": "code",
   "execution_count": null,
   "metadata": {},
   "outputs": [],
   "source": [
    "not true_value"
   ]
  },
  {
   "cell_type": "code",
   "execution_count": null,
   "metadata": {},
   "outputs": [],
   "source": [
    "not false_value"
   ]
  },
  {
   "cell_type": "markdown",
   "metadata": {},
   "source": [
    "## Comparison of Numbers\n",
    "It is also possible to compare two numbers. Each comparison results in a boolean. The following comparison operations are possible in Python:\n",
    "\n",
    "| Operation   | Meaning                 | Example                         |\n",
    "|-------------|-------------------------|---------------------------------|\n",
    "| `<`         | strictly less than      | `5 < 4` -> `False`              |\n",
    "| `<=`        | less than or equal      | `5 <= 4` -> `False`             |\n",
    "| `>`         | strictly greater than   | `5 > 4` -> `True`               |\n",
    "| `>=`        | greater than or equal   | `5 >= 4` -> `True`             |\n",
    "| `==`        | equal                   | `5 == 4` -> `False`             |\n",
    "| `!=`        | not equal               | `5 != 4` -> `True`              |\n",
    "| `is`        | object identity         | `True is True` -> `True`        |\n",
    "| `is not`    | negated object identity | `False is not False` -> `False` |"
   ]
  },
  {
   "cell_type": "markdown",
   "metadata": {},
   "source": [
    "**Be careful with float comparisons!**"
   ]
  },
  {
   "cell_type": "code",
   "execution_count": 16,
   "metadata": {},
   "outputs": [
    {
     "data": {
      "text/plain": [
       "True"
      ]
     },
     "execution_count": 16,
     "metadata": {},
     "output_type": "execute_result"
    }
   ],
   "source": [
    "0.1 + 0.1 == 0.2"
   ]
  },
  {
   "cell_type": "code",
   "execution_count": 18,
   "metadata": {},
   "outputs": [
    {
     "data": {
      "text/plain": [
       "False"
      ]
     },
     "execution_count": 18,
     "metadata": {},
     "output_type": "execute_result"
    }
   ],
   "source": [
    "0.1 + 0.1 + 0.1 == 0.3"
   ]
  },
  {
   "cell_type": "markdown",
   "metadata": {},
   "source": [
    "What happend here? Due to a float's finite precision (click [here](https://docs.python.org/3/tutorial/floatingpoint.html#tut-fp-issues) for a thourough explanation), performing multiple mathematical operations can lead to rounding errors:"
   ]
  },
  {
   "cell_type": "code",
   "execution_count": 20,
   "metadata": {},
   "outputs": [
    {
     "data": {
      "text/plain": [
       "0.30000000000000004"
      ]
     },
     "execution_count": 20,
     "metadata": {},
     "output_type": "execute_result"
    }
   ],
   "source": [
    "0.1 + 0.1 + 0.1 # Should be 0.3"
   ]
  },
  {
   "cell_type": "markdown",
   "metadata": {},
   "source": [
    "This means we cannot confidently compare two floating point numbers for equality. Luckily, most of the time we don't have to. But just in case, you can check whether a result is \"close enough\" by comparing the absolute value of the difference to a very small number:"
   ]
  },
  {
   "cell_type": "code",
   "execution_count": 23,
   "metadata": {},
   "outputs": [
    {
     "data": {
      "text/plain": [
       "True"
      ]
     },
     "execution_count": 23,
     "metadata": {},
     "output_type": "execute_result"
    }
   ],
   "source": [
    "abs((0.1 + 0.1 + 0.1) - 0.3) < 10**-10"
   ]
  },
  {
   "cell_type": "markdown",
   "metadata": {},
   "source": [
    "## Branching\n",
    "\n",
    "There exist different tools to control the flow of the program. The most simple and intuitive control flow tool are the conditional statements `if`, `else`, and `elif`.\n",
    "This is the general form for using these conditional statements:\n",
    "```python\n",
    "if condition:\n",
    "    # do something\n",
    "elif some_other_condition:\n",
    "    # do something\n",
    "else:\n",
    "    # do something\n",
    "```\n",
    "\n",
    "The `if`- and `elif`-statements are checked from top to bottom - the code indented below the first one with a `True` value is executed. If none of the conditions are true, the code inside the else block is executed."
   ]
  },
  {
   "cell_type": "markdown",
   "metadata": {},
   "source": [
    "The simplest way of a conditional statement is just using the `if`-statement. If the condition is `True` the code indented below the `if`-statement is executed- otherwise nothing happens. In the example below if `a_number` is equal to `10` the string `It is 10` is printed, if `a_number` does not equal `10`, the code inside the `if`-statement does not executed, therefore nothing is printed.  \n",
    "\n",
    "Try yourself with different values for `a_number` and see what happens!"
   ]
  },
  {
   "cell_type": "code",
   "execution_count": 24,
   "metadata": {},
   "outputs": [
    {
     "name": "stdout",
     "output_type": "stream",
     "text": [
      "It is 10\n"
     ]
    }
   ],
   "source": [
    "a_number = 10\n",
    "\n",
    "if a_number == 10:\n",
    "    print(\"It is 10\")"
   ]
  },
  {
   "cell_type": "markdown",
   "metadata": {},
   "source": [
    "Below the `else`-statement, we can define what should happen if the condition in the `if`-statement is `False`. In the exampe below `a_number` is now `11` and we have the same `if`-statement which checks if `a_number` is `10`. If it is, the code indented below the `else`-statement is executed. In the example below we print `It is not 10`. Note that an `else`-statement can never be alone - it is always necessary to define an `if`-statement beforehand. \n",
    "\n",
    "Try yourself with different values for `a_number` and see what happens!"
   ]
  },
  {
   "cell_type": "code",
   "execution_count": null,
   "metadata": {},
   "outputs": [],
   "source": [
    "a_number = 11\n",
    "\n",
    "if a_number == 10:\n",
    "    print(\"It is 10\")\n",
    "else:\n",
    "    print(\"It is not 10\")"
   ]
  },
  {
   "cell_type": "markdown",
   "metadata": {},
   "source": [
    "Sometimes we want to check multiple conditions. For this we can use `elif`-statements. Notice: An `elif`-statement must always be after an `if`-statement or another `elif`-statement.  \n",
    "In the example below we want to check if a number is 10 or 5 or something else. For this we define the same `if`-statement as before, then an `elif`-statement to check if the number is 5. And finally there's the `else`-statement from before.  \n",
    "Now `a_number` is 5. So the first check is in the `if`-statement which is `False` since 5 is not 10. Then we check the `elif`-statement which is in this case `True` since 5 is actually 5, therefore `It is not 10 but 5` is printed. Afterwards we do not enter the `else`-statement since this is only entered if none of the previous conditions are `True`.  \n",
    "\n",
    "Try yourself with different values for `a_number` and see what happens!"
   ]
  },
  {
   "cell_type": "code",
   "execution_count": 25,
   "metadata": {},
   "outputs": [
    {
     "name": "stdout",
     "output_type": "stream",
     "text": [
      "It is not 10 but 5\n"
     ]
    }
   ],
   "source": [
    "a_number = 5\n",
    "\n",
    "if a_number == 10:\n",
    "    print(\"It is 10\")\n",
    "elif a_number == 5:\n",
    "    print(\"It is not 10 but 5\")\n",
    "else:\n",
    "    print(\"It is not 10\")"
   ]
  },
  {
   "cell_type": "markdown",
   "metadata": {},
   "source": [
    "Using the keyword `in`, you can check whether something is part of a container type (like a list, tuple, or dictionary):"
   ]
  },
  {
   "cell_type": "code",
   "execution_count": 31,
   "metadata": {},
   "outputs": [
    {
     "name": "stdout",
     "output_type": "stream",
     "text": [
      "3 is a small prime number!\n"
     ]
    }
   ],
   "source": [
    "number = 3\n",
    "\n",
    "small_primes = [2, 3, 5, 7, 9]\n",
    "\n",
    "if number in small_primes:\n",
    "    print(f\"{number} is a small prime number!\")\n"
   ]
  },
  {
   "cell_type": "markdown",
   "metadata": {},
   "source": [
    "The opposite also works:"
   ]
  },
  {
   "cell_type": "code",
   "execution_count": 32,
   "metadata": {},
   "outputs": [
    {
     "name": "stdout",
     "output_type": "stream",
     "text": [
      "I've yet to learn french\n"
     ]
    }
   ],
   "source": [
    "language_to_check = \"french\"\n",
    "\n",
    "languages_i_speak = [\"german\", \"english\", \"spanish\"]\n",
    "\n",
    "if language_to_check not in languages_i_speak:\n",
    "    print(f\"I've yet to learn {language_to_check}\")\n",
    "else:\n",
    "    print(f\"Yay, I know {language_to_check}\")"
   ]
  },
  {
   "cell_type": "markdown",
   "metadata": {},
   "source": [
    "## `for`-Loops\n",
    "\n",
    "[Video tutorial (6 min)](https://www.youtube.com/watch?v=6iF8Xb7Z3wQ)\n",
    "\n",
    "A short recap from last session:  \n",
    "\n",
    "`for`-loops iterate over sequences (like lists, tuples, or sets). Often in programming, we want to perform the same action using different input data. Instead of writing this down X times we define a loop which does this for us.\n",
    "\n",
    "The `for`-loop in python is defined as follows:\n",
    "```python\n",
    "for variable in sequence:\n",
    "    # do stuff\n",
    "```\n",
    "\n",
    "So we start with the keyword `for` followed by a variable name. This variable is created here and contains one element of the sequence, which changes every iteration of the loop until the whole sequence is finished, or we as programmers stop the loop. Next comes the `in` keyword followed by the sequence. Finally, the part which should happen at each iteration is _indented_ below the `for`-statement (i.e. the line starts 4 spaces further to the right).\n"
   ]
  },
  {
   "cell_type": "markdown",
   "metadata": {},
   "source": [
    "As you already know you can iterate over the different sequence datatypes. Now we show you how to control stop a loop or skip elements in the loop based on a condition being met. For this there exist two keywords:  \n",
    "* `continue`: stop the current iteration and begins the next one (jump back to the top of the loop, but use the next element)\n",
    "* `break`: exits the loop immediately (jump after the loop body)"
   ]
  },
  {
   "cell_type": "markdown",
   "metadata": {},
   "source": [
    "In the Example below every letter but the letter `l` should be printed. For this we iterate over the string and check with an `if`-statement if the letter is actually `l` - if so we skip the print by using `continue`. \n",
    "\n",
    "Try this with different letters to skip!"
   ]
  },
  {
   "cell_type": "code",
   "execution_count": null,
   "metadata": {},
   "outputs": [],
   "source": [
    "# continue -> Print every letter but the letter \"l\"\n",
    "hello_world = \"Hello World!\"\n",
    "for letter in hello_world:\n",
    "    if letter == \"l\":\n",
    "        continue\n",
    "    print(letter)"
   ]
  },
  {
   "cell_type": "markdown",
   "metadata": {},
   "source": [
    "Similar we can also break the loop when the letter `l` is encountered in the sequence using `break`.  \n",
    "\n",
    "Try to stop the loop at different letters!"
   ]
  },
  {
   "cell_type": "code",
   "execution_count": 33,
   "metadata": {},
   "outputs": [
    {
     "name": "stdout",
     "output_type": "stream",
     "text": [
      "H\n",
      "e\n"
     ]
    }
   ],
   "source": [
    "# break -> Print all letters until the first encounter of the letter \"l\"\n",
    "hello_world = \"Hello World!\"\n",
    "for letter in hello_world:\n",
    "    if letter == \"l\":\n",
    "        break\n",
    "    print(letter)"
   ]
  },
  {
   "cell_type": "markdown",
   "metadata": {},
   "source": [
    "#### `enumerate` a sequence\n",
    "You may encounter a problem where you need the index of the element in the sequence and the element itself. `enumerate` generates a tuple for each iterable, which contains the element's index and the element itself: `(<index>, <element>)`. This tuple can directly be unpacked by using two variable names separated by a comma in the `for`-statement."
   ]
  },
  {
   "cell_type": "code",
   "execution_count": 34,
   "metadata": {},
   "outputs": [
    {
     "name": "stdout",
     "output_type": "stream",
     "text": [
      "0. element in data is 63\n",
      "1. element in data is 100\n",
      "2. element in data is 48\n",
      "3. element in data is 79\n",
      "4. element in data is 4\n",
      "5. element in data is 85\n",
      "6. element in data is 26\n",
      "7. element in data is 84\n",
      "8. element in data is 16\n",
      "9. element in data is 73\n",
      "10. element in data is 58\n",
      "11. element in data is 78\n"
     ]
    }
   ],
   "source": [
    "data = [63, 100, 48, 79, 4, 85, 26, 84, 16, 73, 58, 78]\n",
    "for index, element in enumerate(data):\n",
    "    print(f\"{index}. element in data is {element}\")"
   ]
  },
  {
   "cell_type": "markdown",
   "metadata": {},
   "source": []
  },
  {
   "cell_type": "markdown",
   "metadata": {},
   "source": [
    "#### List Comprehensions\n",
    "\n",
    "Sometimes we want to create a list based on the content of another list. Using what we've learned so far, we can use the list method `.append` inside a `for`-loop:"
   ]
  },
  {
   "cell_type": "code",
   "execution_count": 38,
   "metadata": {},
   "outputs": [
    {
     "name": "stdout",
     "output_type": "stream",
     "text": [
      "[16, 64, 225, 256, 529, 1764]\n"
     ]
    }
   ],
   "source": [
    "numbers = [4, 8, 15, 16, 23, 42]\n",
    "\n",
    "squared_numbers = []\n",
    "for number in numbers:\n",
    "    squared_numbers.append(number**2)\n",
    "\n",
    "print(squared_numbers)"
   ]
  },
  {
   "cell_type": "markdown",
   "metadata": {},
   "source": [
    "A _list comprehension_ gives a more elegant way to do this:"
   ]
  },
  {
   "cell_type": "code",
   "execution_count": 39,
   "metadata": {},
   "outputs": [
    {
     "name": "stdout",
     "output_type": "stream",
     "text": [
      "[16, 64, 225, 256, 529, 1764]\n"
     ]
    }
   ],
   "source": [
    "squared_even_numbers = [number**2 for number in numbers]\n",
    "print(squared_even_numbers)"
   ]
  },
  {
   "cell_type": "markdown",
   "metadata": {},
   "source": [
    "It's even possible to use an `if`-statement in a list comprehension:"
   ]
  },
  {
   "cell_type": "code",
   "execution_count": 40,
   "metadata": {},
   "outputs": [
    {
     "name": "stdout",
     "output_type": "stream",
     "text": [
      "[16, 64, 256, 1764]\n"
     ]
    }
   ],
   "source": [
    "numbers = [4, 8, 15, 16, 23, 42]\n",
    "\n",
    "squared_even_numbers = []\n",
    "for number in numbers:\n",
    "    if number % 2 == 0:  # check if the number is even, i.e. if dividing by 2 leaves no remainder\n",
    "        squared_even_numbers.append(number**2)\n",
    "\n",
    "print(squared_even_numbers)"
   ]
  },
  {
   "cell_type": "code",
   "execution_count": null,
   "metadata": {},
   "outputs": [
    {
     "name": "stdout",
     "output_type": "stream",
     "text": [
      "[16, 64, 256, 1764]\n"
     ]
    }
   ],
   "source": [
    "# this is the listcomprehension equivalent\n",
    "squared_even_numbers = [number**2 for number in numbers if number % 2 == 0]\n",
    "print(squared_even_numbers)"
   ]
  },
  {
   "cell_type": "markdown",
   "metadata": {},
   "source": [
    "## `while`-Loops\n",
    "\n",
    "[Video tutorial (4 min)](https://youtu.be/6iF8Xb7Z3wQ?t=375)\n",
    "\n",
    "Besides `for`-loops there is an other common looping technique: `while`-loops.  \n",
    "This type of loop performs instructions as long as a given condition is true."
   ]
  },
  {
   "cell_type": "markdown",
   "metadata": {},
   "source": [
    "General form:\n",
    "\n",
    "```python\n",
    "while condition:\n",
    "    # do something\n",
    "```"
   ]
  },
  {
   "cell_type": "markdown",
   "metadata": {
    "tags": []
   },
   "source": [
    "In the example below, the code inside the `while`-loop gets executed until the statement `counter < 3` is `False`."
   ]
  },
  {
   "cell_type": "code",
   "execution_count": 41,
   "metadata": {},
   "outputs": [
    {
     "name": "stdout",
     "output_type": "stream",
     "text": [
      "while-loop begins:\n",
      "\n",
      "The condition counter < 3 is still true.\n",
      "counter is currently 0\n",
      "incrementing counter...\n",
      "----------------------------------------\n",
      "The condition counter < 3 is still true.\n",
      "counter is currently 1\n",
      "incrementing counter...\n",
      "----------------------------------------\n",
      "The condition counter < 3 is still true.\n",
      "counter is currently 2\n",
      "incrementing counter...\n",
      "----------------------------------------\n",
      "The condition counter < 3 is false.\n",
      "counter is currently 3\n",
      "\n",
      "while-loop ends!\n"
     ]
    }
   ],
   "source": [
    "counter = 0\n",
    "print(\"while-loop begins:\\n\")\n",
    "while counter < 3:\n",
    "    print(\"The condition counter < 3 is still true.\") \n",
    "    print(f\"counter is currently {counter}\") # print current value of counter\n",
    "    \n",
    "    counter += 1                             # counter = counter+1\n",
    "    print(\"incrementing counter...\")\n",
    "    print(\"-\" * 40)\n",
    "\n",
    "print(\"The condition counter < 3 is false.\")\n",
    "print(f\"counter is currently {counter}\\n\")\n",
    "print(\"while-loop ends!\")"
   ]
  },
  {
   "cell_type": "markdown",
   "metadata": {
    "tags": []
   },
   "source": [
    "Many `while`-loops can be also rewritten as `for`-loops, but depending on the use case, one might be easier to implement and read or more efficient than the other.Let us see how such an implementation of the same problem can be done with both variants:"
   ]
  },
  {
   "cell_type": "markdown",
   "metadata": {},
   "source": [
    "#### Controlling `while`\n",
    "\n",
    "Just as `for`-loops, also `while`-loops can be controlled by using the `break` and `continue` keywords."
   ]
  },
  {
   "cell_type": "markdown",
   "metadata": {
    "tags": []
   },
   "source": [
    "#### `break`-statement\n",
    "`break`: stops the execution of the loop altogether"
   ]
  },
  {
   "cell_type": "code",
   "execution_count": null,
   "metadata": {
    "tags": []
   },
   "outputs": [],
   "source": [
    "x = 0\n",
    "while x < 10:\n",
    "    x += 1\n",
    "    if x % 4 == 0:\n",
    "        break\n",
    "    print(x)\n",
    "print(\"Executed after while-loop\")"
   ]
  },
  {
   "cell_type": "markdown",
   "metadata": {},
   "source": [
    "#### `continue`-statement\n",
    "`continue`: stops the current iteration and starts with the next iteration of the loop"
   ]
  },
  {
   "cell_type": "code",
   "execution_count": null,
   "metadata": {
    "tags": []
   },
   "outputs": [],
   "source": [
    "x = 0\n",
    "while x < 10:\n",
    "    x += 1\n",
    "    if x % 2 == 0:\n",
    "        print(f\"{x} is even\")\n",
    "        continue\n",
    "    print(f\"{x} is odd\")"
   ]
  },
  {
   "cell_type": "markdown",
   "metadata": {},
   "source": [
    "### Infinite Loops"
   ]
  },
  {
   "cell_type": "markdown",
   "metadata": {},
   "source": [
    "A loop that never ends is called an _infinite loop_, meaning it will not terminate on its own. If you accidentally create an endless loop in a notebook environment, click \"Interrupt kernel\". In a terminal environment, execution can be cancelled with <kbd>Ctrl</kbd>+<kbd>C</kbd>."
   ]
  },
  {
   "cell_type": "code",
   "execution_count": null,
   "metadata": {
    "tags": []
   },
   "outputs": [],
   "source": [
    "# Don't do this... \n",
    "# while True:\n",
    "#     print(\"Oh Oh...\")"
   ]
  },
  {
   "cell_type": "markdown",
   "metadata": {
    "tags": []
   },
   "source": [
    "## Common Mistakes"
   ]
  },
  {
   "cell_type": "markdown",
   "metadata": {},
   "source": [
    "The order of `if`- and `elif`-statements matters! Depending on the use case, this may lead to unwanted behaviour. Take this code which should print the \"generation name\" for a given birth year:"
   ]
  },
  {
   "cell_type": "code",
   "execution_count": 28,
   "metadata": {},
   "outputs": [
    {
     "name": "stdout",
     "output_type": "stream",
     "text": [
      "Baby Boomer\n"
     ]
    }
   ],
   "source": [
    "birth_year = 1960\n",
    "\n",
    "if birth_year <= 1964:\n",
    "    print(\"Baby Boomer\")\n",
    "elif birth_year <= 1980:\n",
    "    print(\"Generation X\")\n",
    "elif birth_year <= 1996:\n",
    "    print(\"Generation Y\")\n",
    "elif birth_year <= 2012:\n",
    "    print(\"Generation Z\")\n",
    "elif birth_year < 2023:\n",
    "    print(\"Generation Alpha\")"
   ]
  },
  {
   "cell_type": "markdown",
   "metadata": {},
   "source": [
    "Since `1960` is less than `1964`, the first `if`-statement is `True`, so `\"Baby Boomer\"` is printed. The `elif`s below are skipped, even though they would be `True` as well! So the code above behaves as intented, while the code below, with a different order of conditions, does not:"
   ]
  },
  {
   "cell_type": "code",
   "execution_count": 29,
   "metadata": {},
   "outputs": [
    {
     "name": "stdout",
     "output_type": "stream",
     "text": [
      "Generation Alpha\n"
     ]
    }
   ],
   "source": [
    "birth_year = 1960\n",
    "\n",
    "if birth_year < 2023:\n",
    "    print(\"Generation Alpha\")\n",
    "elif birth_year <= 2012:\n",
    "    print(\"Generation Z\")\n",
    "elif birth_year <= 1996:\n",
    "    print(\"Generation Y\")\n",
    "elif birth_year <= 1980:\n",
    "    print(\"Generation X\")\n",
    "elif birth_year <= 1964:\n",
    "    print(\"Baby Boomer\")"
   ]
  },
  {
   "cell_type": "markdown",
   "metadata": {},
   "source": [
    "Always place the spaces properly when indenting, else an `IndentationError` occurs. You should always use 4 spaces for indentation."
   ]
  },
  {
   "cell_type": "code",
   "execution_count": null,
   "metadata": {},
   "outputs": [],
   "source": [
    "some_var = 17\n",
    "\n",
    "if some_var > 10:\n",
    "print(\"some_var is totally bigger than 10.\") # no indendation at all\n",
    "elif some_var < 10: \n",
    "  print(\"some_var is smaller than 10.\") # this will not produce an error, but should be avoided\n",
    "else:                 \n",
    "            print(\"some_var is indeed 10.\") # this will not produce an error, but should be avoided"
   ]
  },
  {
   "cell_type": "markdown",
   "metadata": {},
   "source": [
    "This can be fixed by adding appropriate whitespace to the blocks below the `if` and `elif`-statement and removing some whitespaces in the `else`-statement:"
   ]
  },
  {
   "cell_type": "code",
   "execution_count": null,
   "metadata": {},
   "outputs": [],
   "source": [
    "some_var = 17\n",
    "\n",
    "if some_var > 10:\n",
    "    print(\"some_var is totally bigger than 10.\") # no indendation at all\n",
    "elif some_var < 10: \n",
    "    print(\"some_var is smaller than 10.\") # this will not produce an error, but should be avoided\n",
    "else:                 \n",
    "    print(\"some_var is indeed 10.\") # this will not produce an error, but should be avoided"
   ]
  },
  {
   "cell_type": "markdown",
   "metadata": {},
   "source": [
    "Never reaching the end condition when working with while-loops might happen by mistake, so be aware! :)"
   ]
  },
  {
   "cell_type": "code",
   "execution_count": null,
   "metadata": {},
   "outputs": [],
   "source": [
    "number = 5\n",
    "\n",
    "while number > 0:\n",
    "    print(number)\n",
    "    \n",
    "# Stop this by interupting the kernel ;)"
   ]
  },
  {
   "cell_type": "markdown",
   "metadata": {},
   "source": [
    "This can be fixed by adding an end condition (`break`) or by letting the condition be `False` at some time:"
   ]
  },
  {
   "cell_type": "code",
   "execution_count": null,
   "metadata": {},
   "outputs": [],
   "source": [
    "number = 5\n",
    "\n",
    "while number > 0:\n",
    "    print(number)\n",
    "    number -= 1"
   ]
  },
  {
   "cell_type": "markdown",
   "metadata": {},
   "source": [
    "`break` and `continue` only breaks or skips the innermost loop:."
   ]
  },
  {
   "cell_type": "code",
   "execution_count": null,
   "metadata": {},
   "outputs": [],
   "source": [
    "matrix = [[1, 0, -1],\n",
    "          [2, 0, -2],\n",
    "          [1, 0, -1]]\n",
    "\n",
    "# Check for elements smaller 0 in a matrix\n",
    "for row in matrix:\n",
    "    for column in row:\n",
    "        if column < 0:\n",
    "            print(\"There is a negativ element in the Matrix!\")\n",
    "            break"
   ]
  },
  {
   "cell_type": "markdown",
   "metadata": {},
   "source": [
    "By adding the `negativ_found` flag and breaking if this is `True` we can control the outer loop as well:"
   ]
  },
  {
   "cell_type": "code",
   "execution_count": null,
   "metadata": {},
   "outputs": [],
   "source": [
    "matrix = [[1, 0, -1],\n",
    "          [2, 0, -2],\n",
    "          [1, 0, -1]]\n",
    "\n",
    "# Check for elements smaller 0 in a matrix\n",
    "for row in matrix:\n",
    "    negativ_found = False\n",
    "    for column in row:\n",
    "        if column < 0:\n",
    "            print(\"There is a negativ element in the Matrix!\")\n",
    "            negativ_found = True\n",
    "    if negativ_found:\n",
    "        break"
   ]
  },
  {
   "cell_type": "markdown",
   "metadata": {},
   "source": [
    "## Best Practice\n",
    "\n",
    "### Nesting `if`/`elif`/`else`-statements if not needed:\n",
    "Try to avoid nesting multiple conditional statements. This keeps lines short and related pieces of code close to each other.\n",
    "\n",
    "##### _Don't_:\n",
    "```python\n",
    "if arg1 >= 10:\n",
    "    if arg2 < 0:\n",
    "        if arg3 == 2:\n",
    "            do_something()\n",
    "        else:\n",
    "            print(f\"Argument 3 must be 2 but is {arg3}\")\n",
    "    else:\n",
    "        print(f\"Argument 2 must be smaller then 0 but is {arg2}\")\n",
    "else:\n",
    "    print(f\"Argument 1 is not bigger then 10 but is {arg1}\")\n",
    "```\n",
    "As you see this can be very confusing to read and also the indentations get deep fast ;)\n",
    "\n",
    "##### _Do:_\n",
    "```python\n",
    "if not arg1 >= 10:\n",
    "    print(f\"Argument 1 is not bigger then 10 but is {arg1}\")\n",
    "elif not arg2 < 0:\n",
    "    print(f\"Argument 2 must be smaller then 0 but is {arg2}\")\n",
    "elif not arg3 == 2:\n",
    "    print(f\"Argument 3 must be 2 but is {arg3}\")\n",
    "else:\n",
    "    do_something()\n",
    "```"
   ]
  },
  {
   "cell_type": "markdown",
   "metadata": {},
   "source": [
    "## Iterating over iterables to check for existence of an element\n",
    "The `in` statement checks for existence of an element inside an iterable or string.\n",
    "##### _Don't_:\n",
    "```python\n",
    "numbers = [1,2,3,4,5]\n",
    "target_number = 6\n",
    "\n",
    "for number in numbers:\n",
    "    if number == target_number:\n",
    "        print(\"found the target\")\n",
    "```\n",
    "Here you can directly check if `target_number` is in `numbers`, this saves some loop iterations ;)\n",
    "\n",
    "##### _Do:_\n",
    "```python\n",
    "numbers = [1,2,3,4,5]\n",
    "target_number = 6\n",
    "\n",
    "if target_number in numbers:\n",
    "    print(\"found the target\")\n",
    "```\n",
    "This is much faster and more readable since you do not have to loop over the whole list explicitly."
   ]
  },
  {
   "cell_type": "markdown",
   "metadata": {},
   "source": [
    "## Iterating over elements in a iterable with a `for` loop instead of a `while`-loop\n",
    "When you want to do something with the elements of an iterable, it is almost always better to use a `for`-loop\n",
    "##### _Don't_:\n",
    "```python\n",
    "numbers = [43, 26, 42, 28, 33, 16, 91, 88, 55, 61, 62, 46, 18, 49, 8, 89, 12, 1, 42, 52]\n",
    "\n",
    "index = 0\n",
    "while index < len(numbers):\n",
    "    print(numbers[index])\n",
    "```\n",
    "Here you need an index to actually access the element in numbers. Additionally, using a `for`-loop avoids endless loops - you don't have to check for the end condition, so no mistakes here ;)\n",
    "\n",
    "##### _Do:_\n",
    "```python\n",
    "numbers = [43, 26, 42, 28, 33, 16, 91, 88, 55, 61, 62, 46, 18, 49, 8, 89, 12, 1, 42, 52]\n",
    "\n",
    "for number in bumbers:\n",
    "    print(numbers)\n",
    "```"
   ]
  }
 ],
 "metadata": {
  "interpreter": {
   "hash": "9876a56b36d3e86ed839f942802fea42f90ec2f0ee3c4ea82631e635694a47fe"
  },
  "kernelspec": {
   "display_name": "Python 3.10.0 64-bit",
   "language": "python",
   "name": "python3"
  },
  "language_info": {
   "codemirror_mode": {
    "name": "ipython",
    "version": 3
   },
   "file_extension": ".py",
   "mimetype": "text/x-python",
   "name": "python",
   "nbconvert_exporter": "python",
   "pygments_lexer": "ipython3",
   "version": "3.10.0"
  }
 },
 "nbformat": 4,
 "nbformat_minor": 4
}
