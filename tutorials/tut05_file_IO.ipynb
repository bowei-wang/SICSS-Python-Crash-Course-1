{
 "cells": [
  {
   "cell_type": "markdown",
   "metadata": {},
   "source": [
    "# Python Crash Course 05 - File I/O"
   ]
  },
  {
   "cell_type": "markdown",
   "metadata": {},
   "source": [
    "## File I/O\n",
    "[Video tutorial (25 min)](https://www.youtube.com/watch?v=Uh2ebFW8OYM)  \n",
    "[Library Reference](https://docs.python.org/3/library/functions.html#open)"
   ]
  },
  {
   "cell_type": "markdown",
   "metadata": {},
   "source": [
    "### Reading and writing to Files\n",
    "Python's built-in function `open(...)` opens a file and returns a _file object_:\n",
    "\n",
    "```python\n",
    "open(filename, mode=\"r\")\n",
    "```\n",
    "The argument `filename` expects the path to the file (e.g. as a string).  \n",
    "The optional argument `mode` expects the mode in which the file should be opened, it defaults to `r` (reading the file). The most important modes are:  \n",
    "* `\"r\"` - Reading a file\n",
    "* `\"w\"` - Open for writing (deleting previous content)\n",
    "* `\"a\"` - Open for writing (appending to the end if exists)\n",
    "\n",
    "As mentioned before `open()` returns a file object, you can use different methods on this file object - for example to read or to write lines. The table below shows which methods work on which file object opened with a certain mode ([here](https://docs.python.org/3/tutorial/inputoutput.html#methods-of-file-objects) is some more information about the methods):  \n",
    "\n",
    "mode | Method\n",
    "-------- | --------\n",
    "`\"r\"`   | `.read()`, `.readlines()`\n",
    "`\"w\"`   | `.write()`, `.writelines()`\n",
    "`\"a\"`   | `.write()`, `.writelines()`\n"
   ]
  },
  {
   "cell_type": "code",
   "execution_count": null,
   "metadata": {},
   "outputs": [],
   "source": [
    "# Just execute, this creates a file with some content for the examples below\n",
    "with open(\"shoppinglist.txt\", \"w\") as datafile:\n",
    "    datafile.write(\"noodles\\nbread\\nmilk\\ncheese\\napples\\n\")"
   ]
  },
  {
   "cell_type": "markdown",
   "metadata": {},
   "source": [
    "This creates a file with following content:\n",
    "```\n",
    "noodles\n",
    "bread\n",
    "milk\n",
    "cheese\n",
    "apples\n",
    "```"
   ]
  },
  {
   "cell_type": "markdown",
   "metadata": {},
   "source": [
    "But what's the `with` here for? Have you ever tried to move some Word-document or image file while it was opened? Your operating system most likely told you that you'll have to close the file first. Since performing multiple different operations on a single file at the same time often leads to chaos, we have to _close_ files after opening them (and doing something with them). Closing a file signals to other software that the file is \"available\" now. The _context manager_ `with` takes care of opening **and closing** the file for us. The file will only stay open for the block of code indented below the `with` statement, and will be closed at the first dedented line. \n",
    "\n",
    "\n",
    "Let's see what happens if we want to write `\"rice\"` to the file, opened with mode `\"w\"` (open the file in a text editor to check what happens):"
   ]
  },
  {
   "cell_type": "code",
   "execution_count": null,
   "metadata": {},
   "outputs": [],
   "source": [
    "with open(\"shoppinglist.txt\", \"w\") as datafile:\n",
    "    datafile.write(\"rice\\n\")"
   ]
  },
  {
   "cell_type": "markdown",
   "metadata": {},
   "source": [
    "The file now contains:\n",
    "```\n",
    "rice\n",
    "```"
   ]
  },
  {
   "cell_type": "markdown",
   "metadata": {},
   "source": [
    "Didn't work out well, since `\"w\"` overwrites all content and writes the new content. The old list got deleted.  \n",
    "Using `\"a\"` will do a better job:"
   ]
  },
  {
   "cell_type": "code",
   "execution_count": null,
   "metadata": {},
   "outputs": [],
   "source": [
    "with open(\"shoppinglist.txt\", \"w\") as datafile:\n",
    "    datafile.write(\"noodles\\nbread\\nmilk\\ncheese\\napples\\n\")"
   ]
  },
  {
   "cell_type": "code",
   "execution_count": null,
   "metadata": {},
   "outputs": [],
   "source": [
    "with open(\"shoppinglist.txt\", \"a\") as datafile:\n",
    "    datafile.write(\"rice\\n\")"
   ]
  },
  {
   "cell_type": "markdown",
   "metadata": {},
   "source": [
    "The file contains now:\n",
    "```\n",
    "noodles\n",
    "bread\n",
    "milk\n",
    "cheese\n",
    "apples\n",
    "rice\n",
    "```"
   ]
  },
  {
   "cell_type": "markdown",
   "metadata": {},
   "source": [
    "You can also iteratively write multiple lines to a file with `write(<string>)`:"
   ]
  },
  {
   "cell_type": "code",
   "execution_count": null,
   "metadata": {},
   "outputs": [],
   "source": [
    "#writing to a file\n",
    "data = [\"John\", \"Lisa\", \"Anna\", \"Bob\"]\n",
    "with open('some_new_file.txt', 'w') as some_file:\n",
    "    for index, name in enumerate(data):\n",
    "        line = f'Line number {index+1} Name: {name}\\n'\n",
    "        some_file.write(line)"
   ]
  },
  {
   "cell_type": "markdown",
   "metadata": {},
   "source": [
    "Notice you have to add the `\\n` at the end of each line, if you don't do this everything gets written to one line. Try out what happens when you remove the `\\n` at the end."
   ]
  },
  {
   "cell_type": "markdown",
   "metadata": {},
   "source": [
    "You can also use `writelines(<iterable of strings>)` to write multiple lines at once"
   ]
  },
  {
   "cell_type": "code",
   "execution_count": null,
   "metadata": {},
   "outputs": [],
   "source": [
    "data = [\"John\", \"Lisa\", \"Anna\", \"Bob\"]\n",
    "lines = []\n",
    "with open('some_new_file.txt', 'w') as some_file:\n",
    "    for index, name in enumerate(data):\n",
    "        lines.append(f'Line number {index+1} Name: {name}\\n')\n",
    "    some_file.writelines(lines)"
   ]
  },
  {
   "cell_type": "markdown",
   "metadata": {},
   "source": [
    "Notice here you also need to add the `\\n` at the end of each string in the list."
   ]
  },
  {
   "cell_type": "markdown",
   "metadata": {},
   "source": [
    "### Reading the whole file\n",
    "The `.read(<size>)` method reads some quantity of data and returns it as a string. Size is an optional argument, if size is omitted or negative, the entire content of the file will be read and returned."
   ]
  },
  {
   "cell_type": "code",
   "execution_count": null,
   "metadata": {},
   "outputs": [],
   "source": [
    "# read the whole file\n",
    "with open(\"shoppinglist.txt\", \"r\") as shoppinglist_file:\n",
    "    content = shoppinglist_file.read()\n",
    "\n",
    "print(content)"
   ]
  },
  {
   "cell_type": "code",
   "execution_count": null,
   "metadata": {},
   "outputs": [],
   "source": [
    "# content  -> this is a string with newline characters ('\\n')\n",
    "print(type(content))\n",
    "print(repr(content)) # printable representation of the given object"
   ]
  },
  {
   "cell_type": "markdown",
   "metadata": {},
   "source": [
    "As you can see, the output of the method `.read()` is a string, every newline is represented by a `\\n`.\n",
    "\n",
    "You can also iterate over each line in the file. Each line is represented as a string"
   ]
  },
  {
   "cell_type": "code",
   "execution_count": null,
   "metadata": {},
   "outputs": [],
   "source": [
    "# Reading a file line by line (i.e. iterate over the file):\n",
    "with open('shoppinglist.txt', 'r') as shoppinglist_file:\n",
    "    for line in shoppinglist_file:\n",
    "        print(repr(line))\n",
    "        # print(line)\n"
   ]
  },
  {
   "cell_type": "markdown",
   "metadata": {},
   "source": [
    "`.readlines()` reads all lines from a file and returns them as a list. A newline character (`\\n`) is left at the end of every string in the list."
   ]
  },
  {
   "cell_type": "code",
   "execution_count": null,
   "metadata": {},
   "outputs": [],
   "source": [
    "# reading with readlines()\n",
    "with open(\"shoppinglist.txt\", \"r\") as shoppinglist_file:\n",
    "    content = shoppinglist_file.readlines()\n",
    "    print(content)\n",
    "    print(\"Length of content is: \", len(content))"
   ]
  },
  {
   "cell_type": "code",
   "execution_count": null,
   "metadata": {},
   "outputs": [],
   "source": [
    "print(type(content[0]))"
   ]
  },
  {
   "cell_type": "markdown",
   "metadata": {},
   "source": [
    "### Absolute Paths\n",
    "A _absolute path_ is the whole path to the file. Absolute paths work only on your system - since you can never be certain that another user has the same directory tree as you.  \n",
    "We recommend to **avoid absolute paths whenever possible!** Also, hardcoding paths (absolute or relative) will most likely produce code others can not use."
   ]
  },
  {
   "cell_type": "code",
   "execution_count": null,
   "metadata": {},
   "outputs": [],
   "source": [
    "#just execute to create the python-file for demonstration\n",
    "with open(\"demofile.py\", \"w\") as datafile:\n",
    "    datafile.write('print(\"Hello, World!\")')"
   ]
  },
  {
   "cell_type": "code",
   "execution_count": null,
   "metadata": {},
   "outputs": [],
   "source": [
    "# This will not work on your system because you most likely will not have this directory structure\n",
    "absolute_path = \"C:/absolute/path/to/this/demofile.py\"\n",
    "\n",
    "with open(absolute_path, \"r\") as text_file:\n",
    "    data = text_file.read()\n",
    "print(data)\n",
    "#eval(data)"
   ]
  },
  {
   "cell_type": "markdown",
   "metadata": {},
   "source": [
    "So reading this file with using absolute paths won't work on your PC..."
   ]
  },
  {
   "cell_type": "markdown",
   "metadata": {},
   "source": [
    "### Relative Paths\n",
    "Relative Paths are paths which start from the current working directory. So only the directory tree 'below' the current working directory is relevant.\n",
    "_Hint:_ you can still go 'up' the directory tree by using (however many necessary) `../` at the beginning of the path."
   ]
  },
  {
   "cell_type": "code",
   "execution_count": null,
   "metadata": {},
   "outputs": [],
   "source": [
    "relative_path = \"demofile.py\"\n",
    "\n",
    "with open(relative_path, \"r\") as text_file:\n",
    "    data = text_file.read()\n",
    "print(data)\n",
    "#eval(data)"
   ]
  },
  {
   "cell_type": "markdown",
   "metadata": {},
   "source": [
    "## Common Mistakes\n",
    "`UnsupportedOperation`: make sure you open your file with the correct mode. You can not open a file with mode `\"r\"` and then write to your file, you have to use `\"w\"` here. Same the other way around"
   ]
  },
  {
   "cell_type": "code",
   "execution_count": null,
   "metadata": {},
   "outputs": [],
   "source": [
    "with open(\"shoppinglist.txt\", \"r\") as shoppinglist_file:\n",
    "    shoppinglist_file.write(\"rice\\n\")"
   ]
  },
  {
   "cell_type": "code",
   "execution_count": null,
   "metadata": {},
   "outputs": [],
   "source": [
    "with open(\"shoppinglist.txt\", \"w\") as shoppinglist_file:\n",
    "    print(shoppinglist_file.readlines())"
   ]
  },
  {
   "cell_type": "markdown",
   "metadata": {},
   "source": [
    "Both errors can be fixed by using the appropriate method `\"w\"` for the first example and `\"r\"` for the second one."
   ]
  },
  {
   "cell_type": "markdown",
   "metadata": {},
   "source": [
    "`FileNotFoundError` is raised when the file is not found with the given path. Make sure your paths point to a valid file and try not to use absolute paths"
   ]
  },
  {
   "cell_type": "code",
   "execution_count": null,
   "metadata": {},
   "outputs": [],
   "source": [
    "absolute_path = \"Folder_1/demofile.py\"\n",
    "with open(absolute_path, \"r\") as text_file:\n",
    "    data = text_file.read()\n",
    "print(data)\n",
    "#eval(data)"
   ]
  },
  {
   "cell_type": "markdown",
   "metadata": {},
   "source": [
    "## Best Practice\n",
    "\n",
    "### Use the `with`-statement\n",
    "While it is possible to manually open and close a file like this:\n",
    "##### _Don't_:\n",
    "```python\n",
    "file_to_read = open(\"some_file.txt\", \"r\")\n",
    "data = file_to_read.read()\n",
    "\n",
    "file_to_read.close()\n",
    "```\n",
    "\n",
    "it is easy to forget to close the file (or let the program crash before it reaches the call to `.close()`). To make sure the file is closed, always use `with`\n",
    ":\n",
    "##### _Do:_\n",
    "```python\n",
    "with open(\"some_file.txt\", \"r\") as file_to_read:\n",
    "    data = file_to_read.read()\n",
    "```"
   ]
  }
 ],
 "metadata": {
  "interpreter": {
   "hash": "31f2aee4e71d21fbe5cf8b01ff0e069b9275f58929596ceb00d14d90e3e16cd6"
  },
  "kernelspec": {
   "display_name": "Python 3",
   "language": "python",
   "name": "python3"
  },
  "language_info": {
   "codemirror_mode": {
    "name": "ipython",
    "version": 3
   },
   "file_extension": ".py",
   "mimetype": "text/x-python",
   "name": "python",
   "nbconvert_exporter": "python",
   "pygments_lexer": "ipython3",
   "version": "3.9.7"
  }
 },
 "nbformat": 4,
 "nbformat_minor": 4
}
